{
 "cells": [
  {
   "cell_type": "code",
   "execution_count": 1,
   "id": "34672c3e",
   "metadata": {},
   "outputs": [
    {
     "name": "stderr",
     "output_type": "stream",
     "text": [
      "C:\\Users\\ASUS\\anaconda3\\lib\\site-packages\\numpy\\_distributor_init.py:30: UserWarning: loaded more than 1 DLL from .libs:\n",
      "C:\\Users\\ASUS\\anaconda3\\lib\\site-packages\\numpy\\.libs\\libopenblas.EL2C6PLE4ZYW3ECEVIV3OXXGRN2NRFM2.gfortran-win_amd64.dll\n",
      "C:\\Users\\ASUS\\anaconda3\\lib\\site-packages\\numpy\\.libs\\libopenblas.FB5AE2TYXYH2IJRDKGDGQ3XBKLKTF43H.gfortran-win_amd64.dll\n",
      "  warnings.warn(\"loaded more than 1 DLL from .libs:\"\n"
     ]
    }
   ],
   "source": [
    "import numpy as np\n",
    "import pandas as pd\n",
    "import re\n",
    "import string\n",
    "from sklearn.preprocessing import LabelEncoder\n",
    "from sklearn.metrics import accuracy_score, classification_report, confusion_matrix\n",
    "\n",
    "import tensorflow as tf\n",
    "from tensorflow.keras.preprocessing.text import Tokenizer\n",
    "from tensorflow.keras.preprocessing.sequence import pad_sequences\n",
    "from tensorflow.keras.models import Sequential\n",
    "from tensorflow.keras.layers import Embedding, Conv1D, GlobalMaxPooling1D, Dense, LSTM, SimpleRNN, Dropout\n",
    "\n",
    "import matplotlib.pyplot as plt\n",
    "import seaborn as sns"
   ]
  },
  {
   "cell_type": "code",
   "execution_count": 2,
   "id": "66d8fd94",
   "metadata": {},
   "outputs": [],
   "source": [
    "# library baca dataset\n",
    "import pandas as pd\n",
    "\n",
    "#memberikan nama kolom ( karena pada dataset tidak memiliki nama kolom)\n",
    "nama_kolom = [\"teks\",\"label\"]\n",
    "\n",
    "load dataset dari link Github\n",
    "train_df = pd.read_csv('train_preprocess.tsv', sep=\"\\t\", header=None, names=nama_kolom)\n",
    "test_df = pd.read_csv('test_preprocess.tsv', sep=\"\\t\", header=None, names=nama_kolom)\n",
    "valid_df = pd.read_csv('valid_preprocess.tsv', sep=\"\\t\", header=None, names=nama_kolom)"
   ]
  },
  {
   "cell_type": "code",
   "execution_count": 3,
   "id": "8cd5f6e3",
   "metadata": {},
   "outputs": [],
   "source": [
    "\n",
    "# Pembersihan Data\n",
    "def clean_text(text):\n",
    "    text = text.lower()  # Ubah teks menjadi huruf kecil\n",
    "    text = re.sub(r'\\d+', '', text)  # Hapus angka\n",
    "    text = text.translate(str.maketrans('', '', string.punctuation))  # Hapus tanda baca\n",
    "    text = text.strip()  # Hapus spasi di awal dan akhir\n",
    "    return text\n",
    "\n",
    "train_df['teks'] = train_df['teks'].apply(clean_text)\n",
    "valid_df['teks'] = valid_df['teks'].apply(clean_text)\n",
    "test_df['teks'] = test_df['teks'].apply(clean_text)\n"
   ]
  },
  {
   "cell_type": "code",
   "execution_count": 4,
   "id": "37b17434",
   "metadata": {},
   "outputs": [],
   "source": [
    "import pickle\n",
    "\n",
    "# Tokenisasi dan Padding\n",
    "tokenizer = Tokenizer(num_words=5000, oov_token=\"<OOV>\")\n",
    "tokenizer.fit_on_texts(train_df['teks'])\n",
    "word_index = tokenizer.word_index\n",
    "\n",
    "# Mengubah teks menjadi sequence\n",
    "train_sequences = tokenizer.texts_to_sequences(train_df['teks'])\n",
    "valid_sequences = tokenizer.texts_to_sequences(valid_df['teks'])\n",
    "test_sequences = tokenizer.texts_to_sequences(test_df['teks'])\n",
    "\n",
    "# Padding sequences\n",
    "max_length = 200\n",
    "train_padded = pad_sequences(train_sequences, padding='post', maxlen=max_length)\n",
    "valid_padded = pad_sequences(valid_sequences, padding='post', maxlen=max_length)\n",
    "test_padded = pad_sequences(test_sequences, padding='post', maxlen=max_length)\n",
    "\n",
    "\n",
    "\n",
    "# Encoding label\n",
    "label_encoder = LabelEncoder()\n",
    "y_train = label_encoder.fit_transform(train_df['label'])\n",
    "y_valid = label_encoder.transform(valid_df['label'])\n",
    "y_test = label_encoder.transform(test_df['label'])\n"
   ]
  },
  {
   "cell_type": "code",
   "execution_count": 5,
   "id": "3d0d3fc7",
   "metadata": {},
   "outputs": [
    {
     "name": "stdout",
     "output_type": "stream",
     "text": [
      "Model: \"sequential\"\n",
      "_________________________________________________________________\n",
      " Layer (type)                Output Shape              Param #   \n",
      "=================================================================\n",
      " embedding (Embedding)       (None, 200, 64)           320000    \n",
      "                                                                 \n",
      " conv1d (Conv1D)             (None, 196, 128)          41088     \n",
      "                                                                 \n",
      " global_max_pooling1d (Globa  (None, 128)              0         \n",
      " lMaxPooling1D)                                                  \n",
      "                                                                 \n",
      " dense (Dense)               (None, 10)                1290      \n",
      "                                                                 \n",
      " dense_1 (Dense)             (None, 3)                 33        \n",
      "                                                                 \n",
      "=================================================================\n",
      "Total params: 362,411\n",
      "Trainable params: 362,411\n",
      "Non-trainable params: 0\n",
      "_________________________________________________________________\n"
     ]
    }
   ],
   "source": [
    "# Model CNN\n",
    "model_cnn = Sequential([\n",
    "    Embedding(input_dim=5000, output_dim=64, input_length=max_length),\n",
    "    Conv1D(128, 5, activation='relu'),\n",
    "    GlobalMaxPooling1D(),\n",
    "    Dense(10, activation='relu'),\n",
    "    Dense(3, activation='softmax')\n",
    "])\n",
    "\n",
    "model_cnn.compile(loss='sparse_categorical_crossentropy', optimizer='adam', metrics=['accuracy'])\n",
    "model_cnn.summary()\n"
   ]
  },
  {
   "cell_type": "code",
   "execution_count": 6,
   "id": "db801986",
   "metadata": {
    "scrolled": false
   },
   "outputs": [
    {
     "name": "stdout",
     "output_type": "stream",
     "text": [
      "Epoch 1/10\n",
      "344/344 - 5s - loss: 0.5332 - accuracy: 0.7670 - val_loss: 0.3819 - val_accuracy: 0.8540 - 5s/epoch - 15ms/step\n",
      "Epoch 2/10\n",
      "344/344 - 5s - loss: 0.2499 - accuracy: 0.9138 - val_loss: 0.3337 - val_accuracy: 0.8817 - 5s/epoch - 14ms/step\n",
      "Epoch 3/10\n",
      "344/344 - 5s - loss: 0.1188 - accuracy: 0.9636 - val_loss: 0.3415 - val_accuracy: 0.8841 - 5s/epoch - 14ms/step\n",
      "Epoch 4/10\n",
      "344/344 - 5s - loss: 0.0501 - accuracy: 0.9868 - val_loss: 0.4006 - val_accuracy: 0.8897 - 5s/epoch - 14ms/step\n",
      "Epoch 5/10\n",
      "344/344 - 5s - loss: 0.0191 - accuracy: 0.9960 - val_loss: 0.4359 - val_accuracy: 0.8952 - 5s/epoch - 13ms/step\n",
      "Epoch 6/10\n",
      "344/344 - 5s - loss: 0.0088 - accuracy: 0.9980 - val_loss: 0.4748 - val_accuracy: 0.8984 - 5s/epoch - 13ms/step\n",
      "Epoch 7/10\n",
      "344/344 - 5s - loss: 0.0052 - accuracy: 0.9986 - val_loss: 0.5089 - val_accuracy: 0.9008 - 5s/epoch - 13ms/step\n",
      "Epoch 8/10\n",
      "344/344 - 5s - loss: 0.0043 - accuracy: 0.9985 - val_loss: 0.5321 - val_accuracy: 0.8929 - 5s/epoch - 13ms/step\n",
      "Epoch 9/10\n",
      "344/344 - 5s - loss: 0.0041 - accuracy: 0.9985 - val_loss: 0.5388 - val_accuracy: 0.9000 - 5s/epoch - 16ms/step\n",
      "Epoch 10/10\n",
      "344/344 - 5s - loss: 0.0043 - accuracy: 0.9985 - val_loss: 0.5704 - val_accuracy: 0.8944 - 5s/epoch - 14ms/step\n"
     ]
    }
   ],
   "source": [
    "# Pelatihan Model CNN\n",
    "history_cnn = model_cnn.fit(train_padded, y_train, epochs=10, validation_data=(valid_padded, y_valid), verbose=2)\n"
   ]
  },
  {
   "cell_type": "code",
   "execution_count": 7,
   "id": "ce70a473",
   "metadata": {},
   "outputs": [
    {
     "name": "stdout",
     "output_type": "stream",
     "text": [
      "16/16 [==============================] - 0s 4ms/step\n",
      "CNN Accuracy: 0.83\n",
      "Classification Report CNN:\n",
      "               precision    recall  f1-score   support\n",
      "\n",
      "    negative       0.81      0.91      0.86       204\n",
      "     neutral       0.84      0.55      0.66        88\n",
      "    positive       0.85      0.87      0.86       208\n",
      "\n",
      "    accuracy                           0.83       500\n",
      "   macro avg       0.83      0.78      0.79       500\n",
      "weighted avg       0.83      0.83      0.82       500\n",
      "\n",
      "Confusion Matrix CNN:\n",
      " [[186   2  16]\n",
      " [ 23  48  17]\n",
      " [ 20   7 181]]\n"
     ]
    },
    {
     "data": {
      "image/png": "[encoded data removed]",
      "text/plain": [
       "<Figure size 640x480 with 1 Axes>"
      ]
     },
     "metadata": {},
     "output_type": "display_data"
    },
    {
     "data": {
      "image/png": "[encoded data removed]",
      "text/plain": [
       "<Figure size 640x480 with 1 Axes>"
      ]
     },
     "metadata": {},
     "output_type": "display_data"
    }
   ],
   "source": [
    "# Evaluasi Model CNN\n",
    "y_pred_cnn = np.argmax(model_cnn.predict(test_padded), axis=1)\n",
    "\n",
    "print(\"CNN Accuracy:\", accuracy_score(y_test, y_pred_cnn))\n",
    "print(\"Classification Report CNN:\\n\", classification_report(y_test, y_pred_cnn, target_names=label_encoder.classes_))\n",
    "print(\"Confusion Matrix CNN:\\n\", confusion_matrix(y_test, y_pred_cnn))\n",
    "\n",
    "# Plot history\n",
    "plt.plot(history_cnn.history['accuracy'], label='Train Accuracy')\n",
    "plt.plot(history_cnn.history['val_accuracy'], label='Val Accuracy')\n",
    "plt.xlabel('Epoch')\n",
    "plt.ylabel('Accuracy')\n",
    "plt.legend()\n",
    "plt.show()\n",
    "\n",
    "# Plotting Loss\n",
    "plt.subplot(1, 2, 2)\n",
    "plt.plot(history_cnn.history['loss'], label='Train Loss')\n",
    "plt.plot(history_cnn.history['val_loss'], label='Val Loss')\n",
    "plt.xlabel('Epoch')\n",
    "plt.ylabel('Loss')\n",
    "plt.legend()\n",
    "plt.title('Model Loss')\n",
    "\n",
    "plt.show()"
   ]
  },
  {
   "cell_type": "code",
   "execution_count": 8,
   "id": "68222562",
   "metadata": {},
   "outputs": [
    {
     "name": "stdout",
     "output_type": "stream",
     "text": [
      "Masukkan teks: kita akan semakin cerdas jika kita terus menerus melatih otak kita\n",
      "1/1 [==============================] - 0s 59ms/step\n",
      "Sentimen prediksi: negative\n"
     ]
    }
   ],
   "source": [
    "# Fungsi untuk membersihkan teks\n",
    "def clean_text(text):\n",
    "    text = text.lower()  # Ubah teks menjadi huruf kecil\n",
    "    text = re.sub(r'\\d+', '', text)  # Hapus angka\n",
    "    text = text.translate(str.maketrans('', '', string.punctuation))  # Hapus tanda baca\n",
    "    text = text.strip()  # Hapus spasi di awal dan akhir\n",
    "    return text\n",
    "\n",
    "# Fungsi untuk memproses input pengguna dan melakukan prediksi\n",
    "def predict_sentiment(model, text, tokenizer, label_encoder, max_length=100):\n",
    "    text = clean_text(text)  # Pembersihan teks\n",
    "    sequence = tokenizer.texts_to_sequences([text])  # Tokenisasi\n",
    "    padded_sequence = pad_sequences(sequence, padding='post', maxlen=max_length)  # Padding\n",
    "    prediction = model.predict(padded_sequence)  # Prediksi\n",
    "    predicted_label = np.argmax(prediction, axis=1)  # Label yang diprediksi\n",
    "    sentiment = label_encoder.inverse_transform(predicted_label)  # Konversi ke label asli\n",
    "    return sentiment[0]\n",
    "\n",
    "# Misalnya kita menggunakan model CNN\n",
    "model = model_cnn  # Anda bisa mengganti ini dengan model_rnn atau model_lstm jika ingin menggunakan model lain\n",
    "\n",
    "# Contoh penggunaan\n",
    "user_input = input(\"Masukkan teks: \")\n",
    "predicted_sentiment = predict_sentiment(model, user_input, tokenizer, label_encoder)\n",
    "print(f\"Sentimen prediksi: {predicted_sentiment}\")\n"
   ]
  },
  {
   "cell_type": "code",
   "execution_count": null,
   "id": "3897101b",
   "metadata": {},
   "outputs": [],
   "source": [
    "# Contoh penggunaan\n",
    "user_input = input(\"Masukkan teks: \")\n",
    "predicted_sentiment = predict_sentiment(model, user_input, tokenizer, label_encoder)\n",
    "print(f\"Sentimen prediksi: {predicted_sentiment}\")"
   ]
  },
  {
   "cell_type": "code",
   "execution_count": null,
   "id": "64163d90",
   "metadata": {},
   "outputs": [],
   "source": [
    "model.save('cnn_model_baru_2.h5')"
   ]
  },
  {
   "cell_type": "code",
   "execution_count": null,
   "id": "8e0d07cb",
   "metadata": {},
   "outputs": [],
   "source": [
    "# Simpan tokenizer ke dalam file setelah proses tokenisasi selesai\n",
    "with open('tokenizer_baru_2.pickle', 'wb') as handle:\n",
    "    pickle.dump(tokenizer, handle, protocol=pickle.HIGHEST_PROTOCOL)\n",
    "\n",
    "print(\"Tokenizer telah disimpan setelah proses tokenisasi selesai.\")"
   ]
  },
  {
   "cell_type": "code",
   "execution_count": null,
   "id": "110ee6bd",
   "metadata": {
    "scrolled": false
   },
   "outputs": [],
   "source": [
    "# # Model RNN\n",
    "# model_rnn = Sequential([\n",
    "#     Embedding(input_dim=5000, output_dim=64, input_length=max_length),\n",
    "#     SimpleRNN(128, return_sequences=False),\n",
    "#     Dense(10, activation='relu'),\n",
    "#     Dense(3, activation='softmax')\n",
    "# ])\n",
    "\n",
    "# model_rnn.compile(loss='sparse_categorical_crossentropy', optimizer='adam', metrics=['accuracy'])\n",
    "# model_rnn.summary()\n",
    "\n",
    "# # Pelatihan Model RNN\n",
    "# history_rnn = model_rnn.fit(train_padded, y_train, epochs=10, validation_data=(valid_padded, y_valid), verbose=2)\n",
    "\n",
    "# # Evaluasi Model RNN\n",
    "# y_pred_rnn = np.argmax(model_rnn.predict(test_padded), axis=1)\n",
    "\n",
    "# print(\"RNN Accuracy:\", accuracy_score(y_test, y_pred_rnn))\n",
    "# print(\"Classification Report RNN:\\n\", classification_report(y_test, y_pred_rnn, target_names=label_encoder.classes_))\n",
    "# print(\"Confusion Matrix RNN:\\n\", confusion_matrix(y_test, y_pred_rnn))\n",
    "\n",
    "# # Plot history\n",
    "# plt.plot(history_rnn.history['accuracy'], label='Train Accuracy')\n",
    "# plt.plot(history_rnn.history['val_accuracy'], label='Val Accuracy')\n",
    "# plt.xlabel('Epoch')\n",
    "# plt.ylabel('Accuracy')\n",
    "# plt.legend()\n",
    "# plt.show()\n",
    "\n",
    "# # Plotting Loss\n",
    "# plt.plot(history_rnn.history['loss'], label='Train Loss')\n",
    "# plt.plot(history_rnn.history['val_loss'], label='Val Loss')\n",
    "# plt.xlabel('Epoch')\n",
    "# plt.ylabel('Loss')\n",
    "# plt.legend()\n",
    "# plt.title('Model Loss')\n",
    "\n"
   ]
  },
  {
   "cell_type": "code",
   "execution_count": null,
   "id": "3dd5f4d8",
   "metadata": {},
   "outputs": [],
   "source": [
    "# # Model LSTM\n",
    "# model_lstm = Sequential([\n",
    "#     Embedding(input_dim=5000, output_dim=64, input_length=max_length),\n",
    "#     LSTM(128, return_sequences=False),\n",
    "#     Dense(10, activation='relu'),\n",
    "#     Dense(3, activation='softmax')\n",
    "# ])\n",
    "\n",
    "# model_lstm.compile(loss='sparse_categorical_crossentropy', optimizer='adam', metrics=['accuracy'])\n",
    "# model_lstm.summary()\n",
    "\n",
    "# # Pelatihan Model LSTM\n",
    "# history_lstm = model_lstm.fit(train_padded, y_train, epochs=10, validation_data=(valid_padded, y_valid), verbose=2)\n",
    "\n",
    "# # Evaluasi Model LSTM\n",
    "# y_pred_lstm = np.argmax(model_lstm.predict(test_padded), axis=1)\n",
    "\n",
    "# print(\"LSTM Accuracy:\", accuracy_score(y_test, y_pred_lstm))\n",
    "# print(\"Classification Report LSTM:\\n\", classification_report(y_test, y_pred_lstm, target_names=label_encoder.classes_))\n",
    "# print(\"Confusion Matrix LSTM:\\n\", confusion_matrix(y_test, y_pred_lstm))\n",
    "\n",
    "# # Plot history\n",
    "# plt.plot(history_lstm.history['accuracy'], label='Train Accuracy')\n",
    "# plt.plot(history_lstm.history['val_accuracy'], label='Val Accuracy')\n",
    "# plt.xlabel('Epoch')\n",
    "# plt.ylabel('Accuracy')\n",
    "# plt.legend()\n",
    "# plt.show()\n",
    "\n",
    "# # Plotting Loss\n",
    "# plt.plot(history_lstm.history['loss'], label='Train Loss')\n",
    "# plt.plot(history_lstm.history['val_loss'], label='Val Loss')\n",
    "# plt.xlabel('Epoch')\n",
    "# plt.ylabel('Loss')\n",
    "# plt.legend()\n",
    "# plt.title('Model Loss')\n",
    "\n"
   ]
  },
  {
   "cell_type": "code",
   "execution_count": null,
   "id": "f5627b37",
   "metadata": {},
   "outputs": [],
   "source": []
  },
  {
   "cell_type": "code",
   "execution_count": null,
   "id": "ec37e078",
   "metadata": {},
   "outputs": [],
   "source": []
  }
 ],
 "metadata": {
  "kernelspec": {
   "display_name": "Python 3 (ipykernel)",
   "language": "python",
   "name": "python3"
  },
  "language_info": {
   "codemirror_mode": {
    "name": "ipython",
    "version": 3
   },
   "file_extension": ".py",
   "mimetype": "text/x-python",
   "name": "python",
   "nbconvert_exporter": "python",
   "pygments_lexer": "ipython3",
   "version": "3.9.12"
  },
  "toc": {
   "base_numbering": 1,
   "nav_menu": {},
   "number_sections": true,
   "sideBar": true,
   "skip_h1_title": false,
   "title_cell": "Table of Contents",
   "title_sidebar": "Contents",
   "toc_cell": false,
   "toc_position": {},
   "toc_section_display": true,
   "toc_window_display": false
  },
  "varInspector": {
   "cols": {
    "lenName": 16,
    "lenType": 16,
    "lenVar": 40
   },
   "kernels_config": {
    "python": {
     "delete_cmd_postfix": "",
     "delete_cmd_prefix": "del ",
     "library": "var_list.py",
     "varRefreshCmd": "print(var_dic_list())"
    },
    "r": {
     "delete_cmd_postfix": ") ",
     "delete_cmd_prefix": "rm(",
     "library": "var_list.r",
     "varRefreshCmd": "cat(var_dic_list()) "
    }
   },
   "types_to_exclude": [
    "module",
    "function",
    "builtin_function_or_method",
    "instance",
    "_Feature"
   ],
   "window_display": false
  }
 },
 "nbformat": 4,
 "nbformat_minor": 5
}
