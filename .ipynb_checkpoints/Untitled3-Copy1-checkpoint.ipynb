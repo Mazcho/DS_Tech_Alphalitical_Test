{
 "cells": [
  {
   "cell_type": "code",
   "execution_count": 1,
   "id": "34672c3e",
   "metadata": {},
   "outputs": [
    {
     "name": "stderr",
     "output_type": "stream",
     "text": [
      "C:\\Users\\ASUS\\anaconda3\\lib\\site-packages\\numpy\\_distributor_init.py:30: UserWarning: loaded more than 1 DLL from .libs:\n",
      "C:\\Users\\ASUS\\anaconda3\\lib\\site-packages\\numpy\\.libs\\libopenblas.EL2C6PLE4ZYW3ECEVIV3OXXGRN2NRFM2.gfortran-win_amd64.dll\n",
      "C:\\Users\\ASUS\\anaconda3\\lib\\site-packages\\numpy\\.libs\\libopenblas.FB5AE2TYXYH2IJRDKGDGQ3XBKLKTF43H.gfortran-win_amd64.dll\n",
      "  warnings.warn(\"loaded more than 1 DLL from .libs:\"\n"
     ]
    }
   ],
   "source": [
    "import numpy as np\n",
    "import pandas as pd\n",
    "import re\n",
    "import string\n",
    "from sklearn.preprocessing import LabelEncoder\n",
    "from sklearn.metrics import accuracy_score, classification_report, confusion_matrix\n",
    "\n",
    "import tensorflow as tf\n",
    "from tensorflow.keras.preprocessing.text import Tokenizer\n",
    "from tensorflow.keras.preprocessing.sequence import pad_sequences\n",
    "from tensorflow.keras.models import Sequential\n",
    "from tensorflow.keras.layers import Embedding, Conv1D, GlobalMaxPooling1D, Dense, LSTM, SimpleRNN, Dropout\n",
    "\n",
    "import matplotlib.pyplot as plt\n",
    "import seaborn as sns"
   ]
  },
  {
   "cell_type": "code",
   "execution_count": 4,
   "id": "66d8fd94",
   "metadata": {},
   "outputs": [],
   "source": [
    "# library baca dataset\n",
    "import pandas as pd\n",
    "\n",
    "#memberikan nama kolom ( karena pada dataset tidak memiliki nama kolom)\n",
    "nama_kolom = [\"teks\",\"label\"]\n",
    "\n",
    "train_df = pd.read_csv('train_preprocess.tsv', sep=\"\\t\", header=None, names=nama_kolom)\n",
    "test_df = pd.read_csv('test_preprocess.tsv', sep=\"\\t\", header=None, names=nama_kolom)\n",
    "valid_df = pd.read_csv('valid_preprocess.tsv', sep=\"\\t\", header=None, names=nama_kolom)"
   ]
  },
  {
   "cell_type": "code",
   "execution_count": 5,
   "id": "8cd5f6e3",
   "metadata": {},
   "outputs": [],
   "source": [
    "\n",
    "# Pembersihan Data\n",
    "def clean_text(text):\n",
    "    text = text.lower()  # Ubah teks menjadi huruf kecil\n",
    "    text = re.sub(r'\\d+', '', text)  # Hapus angka\n",
    "    text = text.translate(str.maketrans('', '', string.punctuation))  # Hapus tanda baca\n",
    "    text = text.strip()  # Hapus spasi di awal dan akhir\n",
    "    return text\n",
    "\n",
    "train_df['teks'] = train_df['teks'].apply(clean_text)\n",
    "valid_df['teks'] = valid_df['teks'].apply(clean_text)\n",
    "test_df['teks'] = test_df['teks'].apply(clean_text)\n"
   ]
  },
  {
   "cell_type": "code",
   "execution_count": 6,
   "id": "7a90c36c",
   "metadata": {},
   "outputs": [
    {
     "name": "stdout",
     "output_type": "stream",
     "text": [
      "Total data: 11000\n",
      "Distribusi kelas:\n",
      "positive    6416\n",
      "negative    3436\n",
      "neutral     1148\n",
      "Name: label, dtype: int64\n",
      "Statistik panjang teks:\n",
      "count    11000.000000\n",
      "mean        28.731909\n",
      "std         18.367495\n",
      "min          1.000000\n",
      "25%         14.000000\n",
      "50%         25.000000\n",
      "75%         42.000000\n",
      "max         85.000000\n",
      "Name: text_length, dtype: float64\n"
     ]
    }
   ],
   "source": [
    "# Jumlah data\n",
    "total_data = len(train_df)\n",
    "print(\"Total data:\", total_data)\n",
    "\n",
    "# Distribusi kelas (jika ada label)\n",
    "class_distribution = train_df['label'].value_counts()\n",
    "print(\"Distribusi kelas:\")\n",
    "print(class_distribution)\n",
    "\n",
    "# Statistik panjang teks\n",
    "train_df['text_length'] = train_df['teks'].apply(lambda x: len(x.split()))\n",
    "print(\"Statistik panjang teks:\")\n",
    "print(train_df['text_length'].describe())\n"
   ]
  },
  {
   "cell_type": "code",
   "execution_count": 7,
   "id": "21915cb9",
   "metadata": {},
   "outputs": [
    {
     "data": {
      "image/png": "[encoded data removed]",
      "text/plain": [
       "<Figure size 800x600 with 1 Axes>"
      ]
     },
     "metadata": {},
     "output_type": "display_data"
    }
   ],
   "source": [
    "import matplotlib.pyplot as plt\n",
    "\n",
    "# Histogram panjang teks\n",
    "plt.figure(figsize=(8, 6))\n",
    "plt.hist(train_df['text_length'], bins=30, edgecolor='k')\n",
    "plt.xlabel('Panjang Teks')\n",
    "plt.ylabel('Jumlah Data')\n",
    "plt.title('Histogram Panjang Teks')\n",
    "plt.grid(True)\n",
    "plt.show()\n"
   ]
  },
  {
   "cell_type": "code",
   "execution_count": 9,
   "id": "0bc0861b",
   "metadata": {},
   "outputs": [
    {
     "name": "stdout",
     "output_type": "stream",
     "text": [
      "Requirement already satisfied: wordcloud in c:\\users\\asus\\anaconda3\\lib\\site-packages (1.8.2.2)\n",
      "Collecting wordcloud\n",
      "  Downloading wordcloud-1.9.3-cp39-cp39-win_amd64.whl (300 kB)\n",
      "     -------------------------------------- 300.6/300.6 kB 3.7 MB/s eta 0:00:00\n",
      "Requirement already satisfied: pillow in c:\\users\\asus\\anaconda3\\lib\\site-packages (from wordcloud) (10.2.0)\n",
      "Requirement already satisfied: numpy>=1.6.1 in c:\\users\\asus\\anaconda3\\lib\\site-packages (from wordcloud) (1.23.5)\n",
      "Requirement already satisfied: matplotlib in c:\\users\\asus\\anaconda3\\lib\\site-packages (from wordcloud) (3.8.0)\n",
      "Requirement already satisfied: packaging>=20.0 in c:\\users\\asus\\anaconda3\\lib\\site-packages (from matplotlib->wordcloud) (23.2)\n",
      "Requirement already satisfied: pyparsing>=2.3.1 in c:\\users\\asus\\anaconda3\\lib\\site-packages (from matplotlib->wordcloud) (3.1.1)\n",
      "Requirement already satisfied: python-dateutil>=2.7 in c:\\users\\asus\\anaconda3\\lib\\site-packages (from matplotlib->wordcloud) (2.8.2)\n",
      "Requirement already satisfied: kiwisolver>=1.0.1 in c:\\users\\asus\\anaconda3\\lib\\site-packages (from matplotlib->wordcloud) (1.4.4)\n",
      "Requirement already satisfied: fonttools>=4.22.0 in c:\\users\\asus\\anaconda3\\lib\\site-packages (from matplotlib->wordcloud) (4.25.0)\n",
      "Requirement already satisfied: contourpy>=1.0.1 in c:\\users\\asus\\anaconda3\\lib\\site-packages (from matplotlib->wordcloud) (1.2.0)\n",
      "Requirement already satisfied: cycler>=0.10 in c:\\users\\asus\\anaconda3\\lib\\site-packages (from matplotlib->wordcloud) (0.11.0)\n",
      "Requirement already satisfied: importlib-resources>=3.2.0 in c:\\users\\asus\\anaconda3\\lib\\site-packages (from matplotlib->wordcloud) (6.1.0)\n",
      "Requirement already satisfied: zipp>=3.1.0 in c:\\users\\asus\\anaconda3\\lib\\site-packages (from importlib-resources>=3.2.0->matplotlib->wordcloud) (3.17.0)\n",
      "Requirement already satisfied: six>=1.5 in c:\\users\\asus\\anaconda3\\lib\\site-packages (from python-dateutil>=2.7->matplotlib->wordcloud) (1.16.0)\n",
      "Installing collected packages: wordcloud\n",
      "  Attempting uninstall: wordcloud\n",
      "    Found existing installation: wordcloud 1.8.2.2\n",
      "    Uninstalling wordcloud-1.8.2.2:\n",
      "      Successfully uninstalled wordcloud-1.8.2.2\n",
      "Note: you may need to restart the kernel to use updated packages.\n"
     ]
    },
    {
     "name": "stderr",
     "output_type": "stream",
     "text": [
      "WARNING: Ignoring invalid distribution -umpy (c:\\users\\asus\\anaconda3\\lib\\site-packages)\n",
      "WARNING: Ignoring invalid distribution -iskit-terra (c:\\users\\asus\\anaconda3\\lib\\site-packages)\n",
      "WARNING: Ignoring invalid distribution -illow (c:\\users\\asus\\anaconda3\\lib\\site-packages)\n",
      "WARNING: Ignoring invalid distribution -ensorflow-intel (c:\\users\\asus\\anaconda3\\lib\\site-packages)\n",
      "WARNING: Ignoring invalid distribution -umpy (c:\\users\\asus\\anaconda3\\lib\\site-packages)\n",
      "WARNING: Ignoring invalid distribution -iskit-terra (c:\\users\\asus\\anaconda3\\lib\\site-packages)\n",
      "WARNING: Ignoring invalid distribution -illow (c:\\users\\asus\\anaconda3\\lib\\site-packages)\n",
      "WARNING: Ignoring invalid distribution -ensorflow-intel (c:\\users\\asus\\anaconda3\\lib\\site-packages)\n",
      "WARNING: Ignoring invalid distribution -umpy (c:\\users\\asus\\anaconda3\\lib\\site-packages)\n",
      "WARNING: Ignoring invalid distribution -iskit-terra (c:\\users\\asus\\anaconda3\\lib\\site-packages)\n",
      "WARNING: Ignoring invalid distribution -illow (c:\\users\\asus\\anaconda3\\lib\\site-packages)\n",
      "WARNING: Ignoring invalid distribution -ensorflow-intel (c:\\users\\asus\\anaconda3\\lib\\site-packages)\n",
      "    WARNING: Ignoring invalid distribution -umpy (c:\\users\\asus\\anaconda3\\lib\\site-packages)\n",
      "    WARNING: Ignoring invalid distribution -iskit-terra (c:\\users\\asus\\anaconda3\\lib\\site-packages)\n",
      "    WARNING: Ignoring invalid distribution -illow (c:\\users\\asus\\anaconda3\\lib\\site-packages)\n",
      "    WARNING: Ignoring invalid distribution -ensorflow-intel (c:\\users\\asus\\anaconda3\\lib\\site-packages)\n",
      "ERROR: Could not install packages due to an OSError: [WinError 5] Access is denied: 'C:\\\\Users\\\\ASUS\\\\anaconda3\\\\Lib\\\\site-packages\\\\~ordcloud\\\\DroidSansMono.ttf'\n",
      "Consider using the `--user` option or check the permissions.\n",
      "\n",
      "WARNING: Ignoring invalid distribution -umpy (c:\\users\\asus\\anaconda3\\lib\\site-packages)\n",
      "WARNING: Ignoring invalid distribution -iskit-terra (c:\\users\\asus\\anaconda3\\lib\\site-packages)\n",
      "WARNING: Ignoring invalid distribution -illow (c:\\users\\asus\\anaconda3\\lib\\site-packages)\n",
      "WARNING: Ignoring invalid distribution -ensorflow-intel (c:\\users\\asus\\anaconda3\\lib\\site-packages)\n",
      "WARNING: Ignoring invalid distribution -umpy (c:\\users\\asus\\anaconda3\\lib\\site-packages)\n",
      "WARNING: Ignoring invalid distribution -iskit-terra (c:\\users\\asus\\anaconda3\\lib\\site-packages)\n",
      "WARNING: Ignoring invalid distribution -illow (c:\\users\\asus\\anaconda3\\lib\\site-packages)\n",
      "WARNING: Ignoring invalid distribution -ensorflow-intel (c:\\users\\asus\\anaconda3\\lib\\site-packages)\n",
      "WARNING: Ignoring invalid distribution -umpy (c:\\users\\asus\\anaconda3\\lib\\site-packages)\n",
      "WARNING: Ignoring invalid distribution -iskit-terra (c:\\users\\asus\\anaconda3\\lib\\site-packages)\n",
      "WARNING: Ignoring invalid distribution -illow (c:\\users\\asus\\anaconda3\\lib\\site-packages)\n",
      "WARNING: Ignoring invalid distribution -ensorflow-intel (c:\\users\\asus\\anaconda3\\lib\\site-packages)\n"
     ]
    }
   ],
   "source": [
    "pip install --upgrade wordcloud"
   ]
  },
  {
   "cell_type": "code",
   "execution_count": 13,
   "id": "620c838e",
   "metadata": {},
   "outputs": [
    {
     "name": "stdout",
     "output_type": "stream",
     "text": [
      "Kata-kata yang paling sering muncul:\n",
      "nya: 13474 kali\n",
      "yang: 9336 kali\n",
      "dan: 7892 kali\n",
      "di: 7717 kali\n",
      "tidak: 4399 kali\n",
      "saya: 4309 kali\n",
      "dengan: 4025 kali\n",
      "makanan: 3563 kali\n",
      "ini: 3540 kali\n",
      "tempat: 3540 kali\n",
      "enak: 3525 kali\n",
      "untuk: 3295 kali\n",
      "makan: 2826 kali\n",
      "juga: 2563 kali\n",
      "ke: 2382 kali\n",
      "ada: 2294 kali\n",
      "sangat: 2042 kali\n",
      "harga: 1977 kali\n",
      "dari: 1957 kali\n",
      "sini: 1892 kali\n"
     ]
    },
    {
     "data": {
      "image/png": "[encoded data removed]",
      "text/plain": [
       "<Figure size 1000x600 with 1 Axes>"
      ]
     },
     "metadata": {},
     "output_type": "display_data"
    }
   ],
   "source": [
    "import matplotlib.pyplot as plt\n",
    "from collections import Counter\n",
    "\n",
    "# Menghitung frekuensi kata-kata\n",
    "word_freq = Counter(all_text.split())\n",
    "\n",
    "# Kata-kata yang paling sering muncul\n",
    "top_words = word_freq.most_common(20)\n",
    "print(\"Kata-kata yang paling sering muncul:\")\n",
    "for word, freq in top_words:\n",
    "    print(f\"{word}: {freq} kali\")\n",
    "\n",
    "# Ekstraksi kata dan frekuensinya\n",
    "words = [word for word, freq in top_words]\n",
    "freqs = [freq for word, freq in top_words]\n",
    "\n",
    "# Plotting\n",
    "plt.figure(figsize=(10, 6))\n",
    "plt.bar(words, freqs, color='skyblue')\n",
    "plt.xlabel('Kata-kata')\n",
    "plt.ylabel('Frekuensi')\n",
    "plt.title('Kata-kata yang Paling Sering Muncul')\n",
    "plt.xticks(rotation=45)\n",
    "plt.tight_layout()\n",
    "plt.show()\n"
   ]
  },
  {
   "cell_type": "code",
   "execution_count": 12,
   "id": "3c3dfd3a",
   "metadata": {},
   "outputs": [
    {
     "data": {
      "image/png": "[encoded data removed]",
      "text/plain": [
       "<Figure size 600x400 with 1 Axes>"
      ]
     },
     "metadata": {},
     "output_type": "display_data"
    }
   ],
   "source": [
    "if 'label' in train_df.columns:\n",
    "    # Bar plot distribusi sentimen\n",
    "    plt.figure(figsize=(6, 4))\n",
    "    train_df['label'].value_counts().plot(kind='bar', color='skyblue')\n",
    "    plt.xlabel('Sentimen')\n",
    "    plt.ylabel('Jumlah')\n",
    "    plt.title('Distribusi Sentimen di Dataset Training')\n",
    "    plt.xticks(rotation=0)\n",
    "    plt.show()\n"
   ]
  },
  {
   "cell_type": "code",
   "execution_count": null,
   "id": "5a31da3f",
   "metadata": {},
   "outputs": [],
   "source": []
  },
  {
   "cell_type": "code",
   "execution_count": null,
   "id": "37b17434",
   "metadata": {},
   "outputs": [],
   "source": [
    "import pickle\n",
    "\n",
    "# Tokenisasi dan Padding\n",
    "tokenizer = Tokenizer(num_words=5000, oov_token=\"<OOV>\")\n",
    "tokenizer.fit_on_texts(train_df['teks'])\n",
    "word_index = tokenizer.word_index\n",
    "\n",
    "# Mengubah teks menjadi sequence\n",
    "train_sequences = tokenizer.texts_to_sequences(train_df['teks'])\n",
    "valid_sequences = tokenizer.texts_to_sequences(valid_df['teks'])\n",
    "test_sequences = tokenizer.texts_to_sequences(test_df['teks'])\n",
    "\n",
    "# Padding sequences\n",
    "max_length = 200\n",
    "train_padded = pad_sequences(train_sequences, padding='post', maxlen=max_length)\n",
    "valid_padded = pad_sequences(valid_sequences, padding='post', maxlen=max_length)\n",
    "test_padded = pad_sequences(test_sequences, padding='post', maxlen=max_length)\n",
    "\n",
    "\n",
    "\n",
    "# Encoding label\n",
    "label_encoder = LabelEncoder()\n",
    "y_train = label_encoder.fit_transform(train_df['label'])\n",
    "y_valid = label_encoder.transform(valid_df['label'])\n",
    "y_test = label_encoder.transform(test_df['label'])\n"
   ]
  },
  {
   "cell_type": "code",
   "execution_count": null,
   "id": "3d0d3fc7",
   "metadata": {},
   "outputs": [],
   "source": [
    "# Model CNN\n",
    "model_cnn = Sequential([\n",
    "    Embedding(input_dim=5000, output_dim=64, input_length=max_length),\n",
    "    Conv1D(128, 5, activation='relu'),\n",
    "    GlobalMaxPooling1D(),\n",
    "    Dense(10, activation='relu'),\n",
    "    Dense(3, activation='softmax')\n",
    "])\n",
    "\n",
    "model_cnn.compile(loss='sparse_categorical_crossentropy', optimizer='adam', metrics=['accuracy'])\n",
    "model_cnn.summary()\n"
   ]
  },
  {
   "cell_type": "code",
   "execution_count": null,
   "id": "db801986",
   "metadata": {
    "scrolled": false
   },
   "outputs": [],
   "source": [
    "# Pelatihan Model CNN\n",
    "history_cnn = model_cnn.fit(train_padded, y_train, epochs=10, validation_data=(valid_padded, y_valid), verbose=2)\n"
   ]
  },
  {
   "cell_type": "code",
   "execution_count": null,
   "id": "ce70a473",
   "metadata": {},
   "outputs": [],
   "source": [
    "# Evaluasi Model CNN\n",
    "y_pred_cnn = np.argmax(model_cnn.predict(test_padded), axis=1)\n",
    "\n",
    "print(\"CNN Accuracy:\", accuracy_score(y_test, y_pred_cnn))\n",
    "print(\"Classification Report CNN:\\n\", classification_report(y_test, y_pred_cnn, target_names=label_encoder.classes_))\n",
    "print(\"Confusion Matrix CNN:\\n\", confusion_matrix(y_test, y_pred_cnn))\n",
    "\n",
    "# Plot history\n",
    "plt.plot(history_cnn.history['accuracy'], label='Train Accuracy')\n",
    "plt.plot(history_cnn.history['val_accuracy'], label='Val Accuracy')\n",
    "plt.xlabel('Epoch')\n",
    "plt.ylabel('Accuracy')\n",
    "plt.legend()\n",
    "plt.show()\n",
    "\n",
    "# Plotting Loss\n",
    "plt.subplot(1, 2, 2)\n",
    "plt.plot(history_cnn.history['loss'], label='Train Loss')\n",
    "plt.plot(history_cnn.history['val_loss'], label='Val Loss')\n",
    "plt.xlabel('Epoch')\n",
    "plt.ylabel('Loss')\n",
    "plt.legend()\n",
    "plt.title('Model Loss')\n",
    "\n",
    "plt.show()"
   ]
  },
  {
   "cell_type": "code",
   "execution_count": null,
   "id": "68222562",
   "metadata": {},
   "outputs": [],
   "source": [
    "# Fungsi untuk membersihkan teks\n",
    "def clean_text(text):\n",
    "    text = text.lower()  # Ubah teks menjadi huruf kecil\n",
    "    text = re.sub(r'\\d+', '', text)  # Hapus angka\n",
    "    text = text.translate(str.maketrans('', '', string.punctuation))  # Hapus tanda baca\n",
    "    text = text.strip()  # Hapus spasi di awal dan akhir\n",
    "    return text\n",
    "\n",
    "# Fungsi untuk memproses input pengguna dan melakukan prediksi\n",
    "def predict_sentiment(model, text, tokenizer, label_encoder, max_length=100):\n",
    "    text = clean_text(text)  # Pembersihan teks\n",
    "    sequence = tokenizer.texts_to_sequences([text])  # Tokenisasi\n",
    "    padded_sequence = pad_sequences(sequence, padding='post', maxlen=max_length)  # Padding\n",
    "    prediction = model.predict(padded_sequence)  # Prediksi\n",
    "    predicted_label = np.argmax(prediction, axis=1)  # Label yang diprediksi\n",
    "    sentiment = label_encoder.inverse_transform(predicted_label)  # Konversi ke label asli\n",
    "    return sentiment[0]\n",
    "\n",
    "# Misalnya kita menggunakan model CNN\n",
    "model = model_cnn  # Anda bisa mengganti ini dengan model_rnn atau model_lstm jika ingin menggunakan model lain\n",
    "\n",
    "# Contoh penggunaan\n",
    "user_input = input(\"Masukkan teks: \")\n",
    "predicted_sentiment = predict_sentiment(model, user_input, tokenizer, label_encoder)\n",
    "print(f\"Sentimen prediksi: {predicted_sentiment}\")\n"
   ]
  },
  {
   "cell_type": "code",
   "execution_count": null,
   "id": "3897101b",
   "metadata": {},
   "outputs": [],
   "source": [
    "# Contoh penggunaan\n",
    "user_input = input(\"Masukkan teks: \")\n",
    "predicted_sentiment = predict_sentiment(model, user_input, tokenizer, label_encoder)\n",
    "print(f\"Sentimen prediksi: {predicted_sentiment}\")"
   ]
  },
  {
   "cell_type": "code",
   "execution_count": null,
   "id": "64163d90",
   "metadata": {},
   "outputs": [],
   "source": [
    "# model.save('cnn_model_baru_2.h5')"
   ]
  },
  {
   "cell_type": "code",
   "execution_count": null,
   "id": "8e0d07cb",
   "metadata": {},
   "outputs": [],
   "source": [
    "# # Simpan tokenizer ke dalam file setelah proses tokenisasi selesai\n",
    "# with open('tokenizer_baru_2.pickle', 'wb') as handle:\n",
    "#     pickle.dump(tokenizer, handle, protocol=pickle.HIGHEST_PROTOCOL)\n",
    "\n",
    "# print(\"Tokenizer telah disimpan setelah proses tokenisasi selesai.\")"
   ]
  },
  {
   "cell_type": "code",
   "execution_count": null,
   "id": "110ee6bd",
   "metadata": {
    "scrolled": false
   },
   "outputs": [],
   "source": [
    "# # Model RNN\n",
    "# model_rnn = Sequential([\n",
    "#     Embedding(input_dim=5000, output_dim=64, input_length=max_length),\n",
    "#     SimpleRNN(128, return_sequences=False),\n",
    "#     Dense(10, activation='relu'),\n",
    "#     Dense(3, activation='softmax')\n",
    "# ])\n",
    "\n",
    "# model_rnn.compile(loss='sparse_categorical_crossentropy', optimizer='adam', metrics=['accuracy'])\n",
    "# model_rnn.summary()\n",
    "\n",
    "# # Pelatihan Model RNN\n",
    "# history_rnn = model_rnn.fit(train_padded, y_train, epochs=10, validation_data=(valid_padded, y_valid), verbose=2)\n",
    "\n",
    "# # Evaluasi Model RNN\n",
    "# y_pred_rnn = np.argmax(model_rnn.predict(test_padded), axis=1)\n",
    "\n",
    "# print(\"RNN Accuracy:\", accuracy_score(y_test, y_pred_rnn))\n",
    "# print(\"Classification Report RNN:\\n\", classification_report(y_test, y_pred_rnn, target_names=label_encoder.classes_))\n",
    "# print(\"Confusion Matrix RNN:\\n\", confusion_matrix(y_test, y_pred_rnn))\n",
    "\n",
    "# # Plot history\n",
    "# plt.plot(history_rnn.history['accuracy'], label='Train Accuracy')\n",
    "# plt.plot(history_rnn.history['val_accuracy'], label='Val Accuracy')\n",
    "# plt.xlabel('Epoch')\n",
    "# plt.ylabel('Accuracy')\n",
    "# plt.legend()\n",
    "# plt.show()\n",
    "\n",
    "# # Plotting Loss\n",
    "# plt.plot(history_rnn.history['loss'], label='Train Loss')\n",
    "# plt.plot(history_rnn.history['val_loss'], label='Val Loss')\n",
    "# plt.xlabel('Epoch')\n",
    "# plt.ylabel('Loss')\n",
    "# plt.legend()\n",
    "# plt.title('Model Loss')\n",
    "\n"
   ]
  },
  {
   "cell_type": "code",
   "execution_count": null,
   "id": "3dd5f4d8",
   "metadata": {},
   "outputs": [],
   "source": [
    "# # Model LSTM\n",
    "# model_lstm = Sequential([\n",
    "#     Embedding(input_dim=5000, output_dim=64, input_length=max_length),\n",
    "#     LSTM(128, return_sequences=False),\n",
    "#     Dense(10, activation='relu'),\n",
    "#     Dense(3, activation='softmax')\n",
    "# ])\n",
    "\n",
    "# model_lstm.compile(loss='sparse_categorical_crossentropy', optimizer='adam', metrics=['accuracy'])\n",
    "# model_lstm.summary()\n",
    "\n",
    "# # Pelatihan Model LSTM\n",
    "# history_lstm = model_lstm.fit(train_padded, y_train, epochs=10, validation_data=(valid_padded, y_valid), verbose=2)\n",
    "\n",
    "# # Evaluasi Model LSTM\n",
    "# y_pred_lstm = np.argmax(model_lstm.predict(test_padded), axis=1)\n",
    "\n",
    "# print(\"LSTM Accuracy:\", accuracy_score(y_test, y_pred_lstm))\n",
    "# print(\"Classification Report LSTM:\\n\", classification_report(y_test, y_pred_lstm, target_names=label_encoder.classes_))\n",
    "# print(\"Confusion Matrix LSTM:\\n\", confusion_matrix(y_test, y_pred_lstm))\n",
    "\n",
    "# # Plot history\n",
    "# plt.plot(history_lstm.history['accuracy'], label='Train Accuracy')\n",
    "# plt.plot(history_lstm.history['val_accuracy'], label='Val Accuracy')\n",
    "# plt.xlabel('Epoch')\n",
    "# plt.ylabel('Accuracy')\n",
    "# plt.legend()\n",
    "# plt.show()\n",
    "\n",
    "# # Plotting Loss\n",
    "# plt.plot(history_lstm.history['loss'], label='Train Loss')\n",
    "# plt.plot(history_lstm.history['val_loss'], label='Val Loss')\n",
    "# plt.xlabel('Epoch')\n",
    "# plt.ylabel('Loss')\n",
    "# plt.legend()\n",
    "# plt.title('Model Loss')\n",
    "\n"
   ]
  },
  {
   "cell_type": "code",
   "execution_count": 3,
   "id": "f5627b37",
   "metadata": {},
   "outputs": [
    {
     "ename": "NameError",
     "evalue": "name 'train_df' is not defined",
     "output_type": "error",
     "traceback": [
      "\u001b[1;31m---------------------------------------------------------------------------\u001b[0m",
      "\u001b[1;31mNameError\u001b[0m                                 Traceback (most recent call last)",
      "Cell \u001b[1;32mIn[3], line 2\u001b[0m\n\u001b[0;32m      1\u001b[0m \u001b[38;5;66;03m# Jumlah data\u001b[39;00m\n\u001b[1;32m----> 2\u001b[0m total_data \u001b[38;5;241m=\u001b[39m \u001b[38;5;28mlen\u001b[39m(\u001b[43mtrain_df\u001b[49m)\n\u001b[0;32m      3\u001b[0m \u001b[38;5;28mprint\u001b[39m(\u001b[38;5;124m\"\u001b[39m\u001b[38;5;124mTotal data:\u001b[39m\u001b[38;5;124m\"\u001b[39m, total_data)\n\u001b[0;32m      5\u001b[0m \u001b[38;5;66;03m# Distribusi kelas (jika ada label)\u001b[39;00m\n",
      "\u001b[1;31mNameError\u001b[0m: name 'train_df' is not defined"
     ]
    }
   ],
   "source": []
  },
  {
   "cell_type": "code",
   "execution_count": null,
   "id": "ec37e078",
   "metadata": {},
   "outputs": [],
   "source": []
  }
 ],
 "metadata": {
  "kernelspec": {
   "display_name": "Python 3 (ipykernel)",
   "language": "python",
   "name": "python3"
  },
  "language_info": {
   "codemirror_mode": {
    "name": "ipython",
    "version": 3
   },
   "file_extension": ".py",
   "mimetype": "text/x-python",
   "name": "python",
   "nbconvert_exporter": "python",
   "pygments_lexer": "ipython3",
   "version": "3.9.12"
  },
  "toc": {
   "base_numbering": 1,
   "nav_menu": {},
   "number_sections": true,
   "sideBar": true,
   "skip_h1_title": false,
   "title_cell": "Table of Contents",
   "title_sidebar": "Contents",
   "toc_cell": false,
   "toc_position": {},
   "toc_section_display": true,
   "toc_window_display": false
  },
  "varInspector": {
   "cols": {
    "lenName": 16,
    "lenType": 16,
    "lenVar": 40
   },
   "kernels_config": {
    "python": {
     "delete_cmd_postfix": "",
     "delete_cmd_prefix": "del ",
     "library": "var_list.py",
     "varRefreshCmd": "print(var_dic_list())"
    },
    "r": {
     "delete_cmd_postfix": ") ",
     "delete_cmd_prefix": "rm(",
     "library": "var_list.r",
     "varRefreshCmd": "cat(var_dic_list()) "
    }
   },
   "types_to_exclude": [
    "module",
    "function",
    "builtin_function_or_method",
    "instance",
    "_Feature"
   ],
   "window_display": false
  }
 },
 "nbformat": 4,
 "nbformat_minor": 5
}
